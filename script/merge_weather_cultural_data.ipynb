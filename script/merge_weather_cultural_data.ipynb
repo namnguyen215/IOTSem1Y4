{
 "cells": [
  {
   "cell_type": "code",
   "execution_count": 1,
   "metadata": {},
   "outputs": [],
   "source": [
    "import pandas as pd\n",
    "import numpy as np"
   ]
  },
  {
   "cell_type": "markdown",
   "metadata": {},
   "source": [
    "### Merge weather data to dataset"
   ]
  },
  {
   "cell_type": "code",
   "execution_count": 4,
   "metadata": {},
   "outputs": [],
   "source": [
    "#handle each file\n",
    "def handle_detail_file(df_detail):\n",
    "    df_detail['date'] = df_detail['TIMESTAMP'].apply(lambda x: x.split('T')[0])\n",
    "    df_detail['time'] = df_detail['TIMESTAMP'].apply(lambda x: x.split('T')[1].split(':')[0])\n",
    "    df_detail.drop(columns=['status','extID','medianMeasuredTime','TIMESTAMP'], inplace= True)\n",
    "    df_group = df_detail.groupby(['date', 'time']).agg({'avgMeasuredTime': 'mean','vehicleCount': 'sum'}).reset_index()\n",
    "    return df_group"
   ]
  },
  {
   "cell_type": "code",
   "execution_count": 15,
   "metadata": {},
   "outputs": [],
   "source": [
    "def handle_detail_file_1(df_detail):\n",
    "    df_detail['year'] = df_detail['TIMESTAMP'].apply(lambda x: x.split('T')[0].split('-')[0])\n",
    "    df_detail['month'] = df_detail['TIMESTAMP'].apply(lambda x: x.split('T')[0].split('-')[1])\n",
    "    df_detail['day'] = df_detail['TIMESTAMP'].apply(lambda x: x.split('T')[0].split('-')[2])\n",
    "    df_detail['hour'] = df_detail['TIMESTAMP'].apply(lambda x: x.split('T')[1].split(':')[0])\n",
    "    df_detail = df_detail[['year','month','day','hour','avgMeasuredTime','avgSpeed','vehicleCount','REPORT_ID']]\n",
    "    df_group = df_detail.groupby(['year','month','day', 'hour','REPORT_ID']).agg({'avgMeasuredTime': 'mean','vehicleCount': 'sum','avgSpeed':'mean'}).reset_index()\n",
    "    return df_group"
   ]
  },
  {
   "cell_type": "code",
   "execution_count": 17,
   "metadata": {},
   "outputs": [],
   "source": [
    "#read all file in traffic_feb_june folder\n",
    "import os\n",
    "files = os.listdir('../Dataset/traffic_june_sep/')\n",
    "# dff = pd.DataFrame(columns=[\"status\",\"avgMeasuredTime\",\"avgSpeed\",\"extID\",\"medianMeasuredTime\",\"TIMESTAMP\",\"vehicleCount\",\"_id\",\"REPORT_ID\"])\n",
    "for filename in files:\n",
    "    dff_temp = pd.read_csv('../Dataset/traffic_june_sep/'+filename)\n",
    "    dff_detail = handle_detail_file_1(dff_temp)\n",
    "    dff_detail.to_csv('../Dataset/weather_merged_2/add_feature_'+filename,index = False)\n",
    "    "
   ]
  }
 ],
 "metadata": {
  "kernelspec": {
   "display_name": "Python 3.9.2 64-bit",
   "language": "python",
   "name": "python3"
  },
  "language_info": {
   "codemirror_mode": {
    "name": "ipython",
    "version": 3
   },
   "file_extension": ".py",
   "mimetype": "text/x-python",
   "name": "python",
   "nbconvert_exporter": "python",
   "pygments_lexer": "ipython3",
   "version": "3.9.2"
  },
  "orig_nbformat": 4,
  "vscode": {
   "interpreter": {
    "hash": "0ea2ad21493f101843a9230a98e6a9c800107df10eef217f0f5689877f90d8d7"
   }
  }
 },
 "nbformat": 4,
 "nbformat_minor": 2
}
