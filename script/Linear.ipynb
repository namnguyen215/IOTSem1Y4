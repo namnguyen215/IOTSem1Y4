{
 "cells": [
  {
   "cell_type": "code",
   "execution_count": 20,
   "metadata": {},
   "outputs": [],
   "source": [
    "import numpy as np\n",
    "import pandas as pd"
   ]
  },
  {
   "cell_type": "code",
   "execution_count": 21,
   "metadata": {},
   "outputs": [],
   "source": [
    "import sqlalchemy\n",
    "#connect to mysql\n",
    "database_username = 'namnp'\n",
    "database_password = '12345678'\n",
    "database_ip       = '127.0.0.1'\n",
    "database_name     = 'iot'\n",
    "database_connection = sqlalchemy.create_engine('mysql+mysqlconnector://{0}:{1}@{2}/{3}'.\n",
    "                                               format(database_username, database_password, \n",
    "                                                      database_ip, database_name))"
   ]
  },
  {
   "cell_type": "code",
   "execution_count": 22,
   "metadata": {},
   "outputs": [
    {
     "data": {
      "text/html": [
       "<div>\n",
       "<style scoped>\n",
       "    .dataframe tbody tr th:only-of-type {\n",
       "        vertical-align: middle;\n",
       "    }\n",
       "\n",
       "    .dataframe tbody tr th {\n",
       "        vertical-align: top;\n",
       "    }\n",
       "\n",
       "    .dataframe thead th {\n",
       "        text-align: right;\n",
       "    }\n",
       "</style>\n",
       "<table border=\"1\" class=\"dataframe\">\n",
       "  <thead>\n",
       "    <tr style=\"text-align: right;\">\n",
       "      <th></th>\n",
       "      <th>time</th>\n",
       "      <th>REPORT_ID</th>\n",
       "      <th>DISTANCE_IN_METERS</th>\n",
       "      <th>vehicleCount</th>\n",
       "      <th>timestamp</th>\n",
       "      <th>day_of_week</th>\n",
       "      <th>vehicleCount_lag_1</th>\n",
       "      <th>vehicleCount_lag_2</th>\n",
       "    </tr>\n",
       "  </thead>\n",
       "  <tbody>\n",
       "    <tr>\n",
       "      <th>0</th>\n",
       "      <td>9</td>\n",
       "      <td>158324</td>\n",
       "      <td>1030</td>\n",
       "      <td>75</td>\n",
       "      <td>2014-08-01 09:00:00</td>\n",
       "      <td>4</td>\n",
       "      <td>78.0</td>\n",
       "      <td>11.0</td>\n",
       "    </tr>\n",
       "    <tr>\n",
       "      <th>1</th>\n",
       "      <td>10</td>\n",
       "      <td>158324</td>\n",
       "      <td>1030</td>\n",
       "      <td>50</td>\n",
       "      <td>2014-08-01 10:00:00</td>\n",
       "      <td>4</td>\n",
       "      <td>75.0</td>\n",
       "      <td>78.0</td>\n",
       "    </tr>\n",
       "    <tr>\n",
       "      <th>2</th>\n",
       "      <td>11</td>\n",
       "      <td>158324</td>\n",
       "      <td>1030</td>\n",
       "      <td>100</td>\n",
       "      <td>2014-08-01 11:00:00</td>\n",
       "      <td>4</td>\n",
       "      <td>50.0</td>\n",
       "      <td>75.0</td>\n",
       "    </tr>\n",
       "  </tbody>\n",
       "</table>\n",
       "</div>"
      ],
      "text/plain": [
       "   time  REPORT_ID  DISTANCE_IN_METERS  vehicleCount            timestamp  \\\n",
       "0     9     158324                1030            75  2014-08-01 09:00:00   \n",
       "1    10     158324                1030            50  2014-08-01 10:00:00   \n",
       "2    11     158324                1030           100  2014-08-01 11:00:00   \n",
       "\n",
       "   day_of_week  vehicleCount_lag_1  vehicleCount_lag_2  \n",
       "0            4                78.0                11.0  \n",
       "1            4                75.0                78.0  \n",
       "2            4                50.0                75.0  "
      ]
     },
     "execution_count": 22,
     "metadata": {},
     "output_type": "execute_result"
    }
   ],
   "source": [
    "df = pd.read_sql('SELECT * FROM `traffic_with_lag_data` where REPORT_ID = 158324 order by REPORT_ID, timestamp ', con=database_connection)\n",
    "df.head(3)"
   ]
  },
  {
   "cell_type": "code",
   "execution_count": 23,
   "metadata": {},
   "outputs": [
    {
     "data": {
      "text/html": [
       "<div>\n",
       "<style scoped>\n",
       "    .dataframe tbody tr th:only-of-type {\n",
       "        vertical-align: middle;\n",
       "    }\n",
       "\n",
       "    .dataframe tbody tr th {\n",
       "        vertical-align: top;\n",
       "    }\n",
       "\n",
       "    .dataframe thead th {\n",
       "        text-align: right;\n",
       "    }\n",
       "</style>\n",
       "<table border=\"1\" class=\"dataframe\">\n",
       "  <thead>\n",
       "    <tr style=\"text-align: right;\">\n",
       "      <th></th>\n",
       "      <th>time</th>\n",
       "      <th>day_of_week</th>\n",
       "      <th>REPORT_ID</th>\n",
       "      <th>DISTANCE_IN_METERS</th>\n",
       "      <th>vehicleCount_lag_1</th>\n",
       "      <th>vehicleCount_lag_2</th>\n",
       "      <th>vehicleCount</th>\n",
       "    </tr>\n",
       "  </thead>\n",
       "  <tbody>\n",
       "    <tr>\n",
       "      <th>0</th>\n",
       "      <td>9</td>\n",
       "      <td>4</td>\n",
       "      <td>158324</td>\n",
       "      <td>1030</td>\n",
       "      <td>78.0</td>\n",
       "      <td>11.0</td>\n",
       "      <td>75</td>\n",
       "    </tr>\n",
       "    <tr>\n",
       "      <th>1</th>\n",
       "      <td>10</td>\n",
       "      <td>4</td>\n",
       "      <td>158324</td>\n",
       "      <td>1030</td>\n",
       "      <td>75.0</td>\n",
       "      <td>78.0</td>\n",
       "      <td>50</td>\n",
       "    </tr>\n",
       "    <tr>\n",
       "      <th>2</th>\n",
       "      <td>11</td>\n",
       "      <td>4</td>\n",
       "      <td>158324</td>\n",
       "      <td>1030</td>\n",
       "      <td>50.0</td>\n",
       "      <td>75.0</td>\n",
       "      <td>100</td>\n",
       "    </tr>\n",
       "  </tbody>\n",
       "</table>\n",
       "</div>"
      ],
      "text/plain": [
       "   time  day_of_week  REPORT_ID  DISTANCE_IN_METERS  vehicleCount_lag_1  \\\n",
       "0     9            4     158324                1030                78.0   \n",
       "1    10            4     158324                1030                75.0   \n",
       "2    11            4     158324                1030                50.0   \n",
       "\n",
       "   vehicleCount_lag_2  vehicleCount  \n",
       "0                11.0            75  \n",
       "1                78.0            50  \n",
       "2                75.0           100  "
      ]
     },
     "execution_count": 23,
     "metadata": {},
     "output_type": "execute_result"
    }
   ],
   "source": [
    "cols = ['time','day_of_week','REPORT_ID','DISTANCE_IN_METERS','vehicleCount_lag_1','vehicleCount_lag_2','vehicleCount']\n",
    "df = df[cols]\n",
    "df.head(3)"
   ]
  },
  {
   "cell_type": "code",
   "execution_count": 24,
   "metadata": {},
   "outputs": [],
   "source": [
    "def loss(h, y):\n",
    "  sq_error = (h - y)**2\n",
    "  n = len(y)\n",
    "  return 1.0 / (2*n) * sq_error.sum()"
   ]
  },
  {
   "cell_type": "code",
   "execution_count": 25,
   "metadata": {},
   "outputs": [],
   "source": [
    "class LinearRegression:\n",
    "  \n",
    "  def predict(self, X):\n",
    "    return np.dot(X, self._W)\n",
    "  \n",
    "  def _gradient_descent_step(self, X, targets, lr):\n",
    "\n",
    "    predictions = self.predict(X)\n",
    "    \n",
    "    error = predictions - targets\n",
    "    gradient = np.dot(X.T,  error) / len(X)\n",
    "\n",
    "    self._W -= lr * gradient\n",
    "      \n",
    "  def fit(self, X, y, n_iter=100000, lr=0.01):\n",
    "\n",
    "    self._W = np.zeros(X.shape[1])\n",
    "\n",
    "    self._cost_history = []\n",
    "    self._w_history = [self._W]\n",
    "    for i in range(n_iter):\n",
    "      \n",
    "        prediction = self.predict(X)\n",
    "        cost = loss(prediction, y)\n",
    "        \n",
    "        self._cost_history.append(cost)\n",
    "        \n",
    "        self._gradient_descent_step(x, y, lr)\n",
    "        \n",
    "        self._w_history.append(self._W.copy())\n",
    "    return self"
   ]
  },
  {
   "cell_type": "code",
   "execution_count": 26,
   "metadata": {},
   "outputs": [],
   "source": [
    "x = df[['time','day_of_week','REPORT_ID','DISTANCE_IN_METERS','vehicleCount_lag_1','vehicleCount_lag_2']]\n",
    "\n",
    "x = (x - x.mean()) / x.std()\n",
    "x = np.c_[np.ones(x.shape[0]), x] "
   ]
  },
  {
   "cell_type": "code",
   "execution_count": 27,
   "metadata": {},
   "outputs": [
    {
     "data": {
      "text/plain": [
       "(1328, 7)"
      ]
     },
     "execution_count": 27,
     "metadata": {},
     "output_type": "execute_result"
    }
   ],
   "source": [
    "x.shape"
   ]
  },
  {
   "cell_type": "code",
   "execution_count": 28,
   "metadata": {},
   "outputs": [],
   "source": [
    "y = df['vehicleCount']"
   ]
  },
  {
   "cell_type": "code",
   "execution_count": 29,
   "metadata": {},
   "outputs": [
    {
     "data": {
      "text/plain": [
       "<__main__.LinearRegression at 0x7fe63b8cbbb0>"
      ]
     },
     "execution_count": 29,
     "metadata": {},
     "output_type": "execute_result"
    }
   ],
   "source": [
    "clf = LinearRegression()\n",
    "clf.fit(x, y, n_iter=2000, lr=0.01)"
   ]
  },
  {
   "cell_type": "code",
   "execution_count": 30,
   "metadata": {},
   "outputs": [],
   "source": [
    "result = clf.predict(x)"
   ]
  },
  {
   "cell_type": "code",
   "execution_count": 31,
   "metadata": {},
   "outputs": [
    {
     "data": {
      "text/plain": [
       "array([nan, nan, nan, ..., nan, nan, nan])"
      ]
     },
     "execution_count": 31,
     "metadata": {},
     "output_type": "execute_result"
    }
   ],
   "source": [
    "result"
   ]
  }
 ],
 "metadata": {
  "kernelspec": {
   "display_name": "Python 3.8.10 64-bit",
   "language": "python",
   "name": "python3"
  },
  "language_info": {
   "codemirror_mode": {
    "name": "ipython",
    "version": 3
   },
   "file_extension": ".py",
   "mimetype": "text/x-python",
   "name": "python",
   "nbconvert_exporter": "python",
   "pygments_lexer": "ipython3",
   "version": "3.8.10"
  },
  "orig_nbformat": 4,
  "vscode": {
   "interpreter": {
    "hash": "916dbcbb3f70747c44a77c7bcd40155683ae19c65e1c03b4aa3499c5328201f1"
   }
  }
 },
 "nbformat": 4,
 "nbformat_minor": 2
}
